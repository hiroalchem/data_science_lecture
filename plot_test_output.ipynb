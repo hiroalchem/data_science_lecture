{
  "nbformat": 4,
  "nbformat_minor": 0,
  "metadata": {
    "colab": {
      "name": "plot_test_output.ipynb",
      "provenance": [],
      "toc_visible": true,
      "mount_file_id": "19eAMEiJH60saTdRiCLemfLC2NyPYZQSl",
      "authorship_tag": "ABX9TyPQg1rzKePwlImumOs9sqqe",
      "include_colab_link": true
    },
    "kernelspec": {
      "name": "python3",
      "display_name": "Python 3"
    }
  },
  "cells": [
    {
      "cell_type": "markdown",
      "metadata": {
        "id": "view-in-github",
        "colab_type": "text"
      },
      "source": [
        "<a href=\"https://colab.research.google.com/github/hiroalchem/data_science_lecture/blob/main/plot_test_output.ipynb\" target=\"_parent\"><img src=\"https://colab.research.google.com/assets/colab-badge.svg\" alt=\"Open In Colab\"/></a>"
      ]
    },
    {
      "cell_type": "markdown",
      "metadata": {
        "id": "hF_SzL00_JXY"
      },
      "source": [
        "# データサイエンス講義第三回 (2)\n",
        "これはデータサイエンス講義第三回用スクリプトです   \n",
        "Colaboratoryのハードウェア アクセラレータ設定は今回はCPU (None) にして実行してください   \n",
        "上のランタイムタブからランタイムのタイプを変更を選択してください   \n",
        "Google Drive をマウントしてください"
      ]
    },
    {
      "cell_type": "markdown",
      "metadata": {
        "id": "OUEX0WDR_V2E"
      },
      "source": [
        "このスクリプトではテストデータで検出した結果をグラフにしてみます"
      ]
    },
    {
      "cell_type": "code",
      "metadata": {
        "colab": {
          "base_uri": "https://localhost:8080/"
        },
        "id": "yi07FY0B_R3A",
        "outputId": "ae70af94-23cc-4edc-cc29-a8f718a8769b"
      },
      "source": [
        "# lectureのディレクトリに移動します\n",
        "%cd /content/drive/MyDrive/lecture2020"
      ],
      "execution_count": 1,
      "outputs": [
        {
          "output_type": "stream",
          "text": [
            "/content/drive/MyDrive/lecture2020\n"
          ],
          "name": "stdout"
        }
      ]
    },
    {
      "cell_type": "code",
      "metadata": {
        "id": "A7N88GEK_lqN"
      },
      "source": [
        "# 必要なライブラリをimportします\n",
        "%matplotlib inline\n",
        "import matplotlib.pyplot as plt\n",
        "import os\n",
        "from pathlib import Path\n",
        "import pandas as pd\n",
        "import seaborn as sns\n",
        "from xml.etree.ElementTree import *"
      ],
      "execution_count": 23,
      "outputs": []
    },
    {
      "cell_type": "code",
      "metadata": {
        "id": "NacBufl0_0aH"
      },
      "source": [
        "# boxの情報を得るための関数\n",
        "def get_box_list(file_path, tag_name):\n",
        "    tree = parse(file_path)\n",
        "    elem = tree.getroot()\n",
        "    box = []\n",
        "    for (i, objects) in enumerate(elem.findall('object')):\n",
        "        name = objects.find('name').text\n",
        "        if name == tag_name:\n",
        "            xmin = int(objects.find('bndbox/xmin').text)\n",
        "            xmax = int(objects.find('bndbox/xmax').text)\n",
        "            ymin = int(objects.find('bndbox/ymin').text)\n",
        "            ymax = int(objects.find('bndbox/ymax').text)\n",
        "            box.append([xmin,ymin,xmax,ymax])\n",
        "    return box"
      ],
      "execution_count": 4,
      "outputs": []
    },
    {
      "cell_type": "code",
      "metadata": {
        "colab": {
          "base_uri": "https://localhost:8080/"
        },
        "id": "emMZJfwcBMca",
        "outputId": "2aa5622c-57fc-4b9f-c705-2de72e59e105"
      },
      "source": [
        "# まずxmlファイルをpathを取得します\n",
        "data_dir = Path('./trial1/output_xml')\n",
        "xmls = sorted(list(data_dir.glob('./*xml')))\n",
        "xmls"
      ],
      "execution_count": 6,
      "outputs": [
        {
          "output_type": "execute_result",
          "data": {
            "text/plain": [
              "[PosixPath('trial1/output_xml/IXMtest_C19_s4_w1AD3DC23E-B9B5-46E9-9716-26096C672A13_0.xml'),\n",
              " PosixPath('trial1/output_xml/IXMtest_C19_s4_w1AD3DC23E-B9B5-46E9-9716-26096C672A13_1.xml'),\n",
              " PosixPath('trial1/output_xml/IXMtest_C19_s4_w1AD3DC23E-B9B5-46E9-9716-26096C672A13_2.xml'),\n",
              " PosixPath('trial1/output_xml/IXMtest_C19_s4_w1AD3DC23E-B9B5-46E9-9716-26096C672A13_3.xml'),\n",
              " PosixPath('trial1/output_xml/IXMtest_G01_s2_w1FBE52723-8BDF-4346-89BB-216A4A69ED1C_0.xml'),\n",
              " PosixPath('trial1/output_xml/IXMtest_G01_s2_w1FBE52723-8BDF-4346-89BB-216A4A69ED1C_1.xml'),\n",
              " PosixPath('trial1/output_xml/IXMtest_G01_s2_w1FBE52723-8BDF-4346-89BB-216A4A69ED1C_2.xml'),\n",
              " PosixPath('trial1/output_xml/IXMtest_G01_s2_w1FBE52723-8BDF-4346-89BB-216A4A69ED1C_3.xml'),\n",
              " PosixPath('trial1/output_xml/IXMtest_G12_s6_w16850371E-A405-4D73-9816-F5F68F885D38_0.xml'),\n",
              " PosixPath('trial1/output_xml/IXMtest_G12_s6_w16850371E-A405-4D73-9816-F5F68F885D38_1.xml'),\n",
              " PosixPath('trial1/output_xml/IXMtest_G12_s6_w16850371E-A405-4D73-9816-F5F68F885D38_2.xml'),\n",
              " PosixPath('trial1/output_xml/IXMtest_G12_s6_w16850371E-A405-4D73-9816-F5F68F885D38_3.xml'),\n",
              " PosixPath('trial1/output_xml/IXMtest_J02_s8_w1D9C198F9-ECF0-4EF7-848D-AC7782CD3C28_0.xml'),\n",
              " PosixPath('trial1/output_xml/IXMtest_J02_s8_w1D9C198F9-ECF0-4EF7-848D-AC7782CD3C28_1.xml'),\n",
              " PosixPath('trial1/output_xml/IXMtest_J02_s8_w1D9C198F9-ECF0-4EF7-848D-AC7782CD3C28_2.xml'),\n",
              " PosixPath('trial1/output_xml/IXMtest_J02_s8_w1D9C198F9-ECF0-4EF7-848D-AC7782CD3C28_3.xml'),\n",
              " PosixPath('trial1/output_xml/IXMtest_N18_s2_w1CC5ED51D-86C5-437D-8EDD-E56E4C949B3B_0.xml'),\n",
              " PosixPath('trial1/output_xml/IXMtest_N18_s2_w1CC5ED51D-86C5-437D-8EDD-E56E4C949B3B_1.xml'),\n",
              " PosixPath('trial1/output_xml/IXMtest_N18_s2_w1CC5ED51D-86C5-437D-8EDD-E56E4C949B3B_2.xml'),\n",
              " PosixPath('trial1/output_xml/IXMtest_N18_s2_w1CC5ED51D-86C5-437D-8EDD-E56E4C949B3B_3.xml')]"
            ]
          },
          "metadata": {
            "tags": []
          },
          "execution_count": 6
        }
      ]
    },
    {
      "cell_type": "code",
      "metadata": {
        "colab": {
          "base_uri": "https://localhost:8080/"
        },
        "id": "Dg_sNsHkC4tw",
        "outputId": "25df907d-fbee-42bd-b649-5fb4a8dca467"
      },
      "source": [
        "# namesのリスト内を自分の作ったlabel_mapのitemのnameのリストに変更してください\n",
        "# nameごとにxmlからboxのリストを取得してその数を足し合わせます\n",
        "names =['cell', 'micro']\n",
        "nums = []\n",
        "for name in names:\n",
        "  num = 0\n",
        "  for xml in xmls:\n",
        "    num = num + len(get_box_list(str(xml), name))\n",
        "  nums.append(num)\n",
        "print(nums)"
      ],
      "execution_count": 34,
      "outputs": [
        {
          "output_type": "stream",
          "text": [
            "[434, 38]\n"
          ],
          "name": "stdout"
        }
      ]
    },
    {
      "cell_type": "code",
      "metadata": {
        "colab": {
          "base_uri": "https://localhost:8080/",
          "height": 111
        },
        "id": "vQFOJbVvES4X",
        "outputId": "cf861cec-3ec1-4564-c01f-045ac11c8cd0"
      },
      "source": [
        "# dataframeにします\n",
        "df = pd.DataFrame({'type':names,\n",
        "                   'num': nums})\n",
        "df"
      ],
      "execution_count": 10,
      "outputs": [
        {
          "output_type": "execute_result",
          "data": {
            "text/html": [
              "<div>\n",
              "<style scoped>\n",
              "    .dataframe tbody tr th:only-of-type {\n",
              "        vertical-align: middle;\n",
              "    }\n",
              "\n",
              "    .dataframe tbody tr th {\n",
              "        vertical-align: top;\n",
              "    }\n",
              "\n",
              "    .dataframe thead th {\n",
              "        text-align: right;\n",
              "    }\n",
              "</style>\n",
              "<table border=\"1\" class=\"dataframe\">\n",
              "  <thead>\n",
              "    <tr style=\"text-align: right;\">\n",
              "      <th></th>\n",
              "      <th>type</th>\n",
              "      <th>num</th>\n",
              "    </tr>\n",
              "  </thead>\n",
              "  <tbody>\n",
              "    <tr>\n",
              "      <th>0</th>\n",
              "      <td>cell</td>\n",
              "      <td>434</td>\n",
              "    </tr>\n",
              "    <tr>\n",
              "      <th>1</th>\n",
              "      <td>micro</td>\n",
              "      <td>38</td>\n",
              "    </tr>\n",
              "  </tbody>\n",
              "</table>\n",
              "</div>"
            ],
            "text/plain": [
              "    type  num\n",
              "0   cell  434\n",
              "1  micro   38"
            ]
          },
          "metadata": {
            "tags": []
          },
          "execution_count": 10
        }
      ]
    },
    {
      "cell_type": "code",
      "metadata": {
        "colab": {
          "base_uri": "https://localhost:8080/",
          "height": 296
        },
        "id": "s-DG9wpGEvFA",
        "outputId": "bcfe175f-6843-4917-fc23-bdfe2ee1553f"
      },
      "source": [
        "# グラフにします\n",
        "sns.barplot(x=\"type\", y='num', data=df)"
      ],
      "execution_count": 19,
      "outputs": [
        {
          "output_type": "execute_result",
          "data": {
            "text/plain": [
              "<matplotlib.axes._subplots.AxesSubplot at 0x7f9dd93644a8>"
            ]
          },
          "metadata": {
            "tags": []
          },
          "execution_count": 19
        },
        {
          "output_type": "display_data",
          "data": {
            "image/png": "[encoded data removed]",
            "text/plain": [
              "<Figure size 432x288 with 1 Axes>"
            ]
          },
          "metadata": {
            "tags": [],
            "needs_background": "light"
          }
        }
      ]
    },
    {
      "cell_type": "code",
      "metadata": {
        "colab": {
          "base_uri": "https://localhost:8080/"
        },
        "id": "wAFsJ1IfE3MA",
        "outputId": "22cb6149-23dd-4ab6-d847-790ab060ace9"
      },
      "source": [
        "# 次は画像ごとにしてみます\n",
        "# 末尾の数字より前の画像名のsetを取得\n",
        "image_names = list(set([os.path.basename(str(x)[:-6]) for x in xmls]))\n",
        "image_names"
      ],
      "execution_count": 24,
      "outputs": [
        {
          "output_type": "execute_result",
          "data": {
            "text/plain": [
              "['IXMtest_G01_s2_w1FBE52723-8BDF-4346-89BB-216A4A69ED1C',\n",
              " 'IXMtest_J02_s8_w1D9C198F9-ECF0-4EF7-848D-AC7782CD3C28',\n",
              " 'IXMtest_G12_s6_w16850371E-A405-4D73-9816-F5F68F885D38',\n",
              " 'IXMtest_C19_s4_w1AD3DC23E-B9B5-46E9-9716-26096C672A13',\n",
              " 'IXMtest_N18_s2_w1CC5ED51D-86C5-437D-8EDD-E56E4C949B3B']"
            ]
          },
          "metadata": {
            "tags": []
          },
          "execution_count": 24
        }
      ]
    },
    {
      "cell_type": "code",
      "metadata": {
        "colab": {
          "base_uri": "https://localhost:8080/"
        },
        "id": "pcyaFEvvG4xE",
        "outputId": "71dca710-45ec-4034-c3b0-691a5d94b037"
      },
      "source": [
        "# 自分のlabel_mapのitemに合わせてリストの名前と数を調整してください\n",
        "nums_cell = []\n",
        "nums_micro = []\n",
        "for image_name in image_names:\n",
        "  num_cell_temp = 0\n",
        "  num_micro_temp = 0\n",
        "  for xml in xmls:\n",
        "    if image_name in str(xml):\n",
        "      num_cell_temp = num_cell_temp + len(get_box_list(str(xml), 'cell'))\n",
        "      num_micro_temp = num_micro_temp + len(get_box_list(str(xml), 'micro'))\n",
        "  nums_cell.append(num_cell_temp)\n",
        "  nums_micro.append(num_micro_temp)\n",
        "  \n",
        "print(nums_cell)\n",
        "print(nums_micro)"
      ],
      "execution_count": 36,
      "outputs": [
        {
          "output_type": "stream",
          "text": [
            "[63, 83, 107, 90, 91]\n",
            "[7, 6, 10, 5, 10]\n"
          ],
          "name": "stdout"
        }
      ]
    },
    {
      "cell_type": "code",
      "metadata": {
        "colab": {
          "base_uri": "https://localhost:8080/",
          "height": 359
        },
        "id": "lQoop7tEJgtl",
        "outputId": "f18ee8f0-ea4c-4ea9-b195-77bf4e61ff7b"
      },
      "source": [
        "# dataframeにします\n",
        "df2 = pd.DataFrame({'image':image_names*len(names),\n",
        "                    'type':[names[0]]*len(image_names) + [names[1]]*len(image_names) ,\n",
        "                   'nums': nums_cell + nums_micro})\n",
        "df2"
      ],
      "execution_count": 39,
      "outputs": [
        {
          "output_type": "execute_result",
          "data": {
            "text/html": [
              "<div>\n",
              "<style scoped>\n",
              "    .dataframe tbody tr th:only-of-type {\n",
              "        vertical-align: middle;\n",
              "    }\n",
              "\n",
              "    .dataframe tbody tr th {\n",
              "        vertical-align: top;\n",
              "    }\n",
              "\n",
              "    .dataframe thead th {\n",
              "        text-align: right;\n",
              "    }\n",
              "</style>\n",
              "<table border=\"1\" class=\"dataframe\">\n",
              "  <thead>\n",
              "    <tr style=\"text-align: right;\">\n",
              "      <th></th>\n",
              "      <th>image</th>\n",
              "      <th>type</th>\n",
              "      <th>nums</th>\n",
              "    </tr>\n",
              "  </thead>\n",
              "  <tbody>\n",
              "    <tr>\n",
              "      <th>0</th>\n",
              "      <td>IXMtest_G01_s2_w1FBE52723-8BDF-4346-89BB-216A4...</td>\n",
              "      <td>cell</td>\n",
              "      <td>63</td>\n",
              "    </tr>\n",
              "    <tr>\n",
              "      <th>1</th>\n",
              "      <td>IXMtest_J02_s8_w1D9C198F9-ECF0-4EF7-848D-AC778...</td>\n",
              "      <td>cell</td>\n",
              "      <td>83</td>\n",
              "    </tr>\n",
              "    <tr>\n",
              "      <th>2</th>\n",
              "      <td>IXMtest_G12_s6_w16850371E-A405-4D73-9816-F5F68...</td>\n",
              "      <td>cell</td>\n",
              "      <td>107</td>\n",
              "    </tr>\n",
              "    <tr>\n",
              "      <th>3</th>\n",
              "      <td>IXMtest_C19_s4_w1AD3DC23E-B9B5-46E9-9716-26096...</td>\n",
              "      <td>cell</td>\n",
              "      <td>90</td>\n",
              "    </tr>\n",
              "    <tr>\n",
              "      <th>4</th>\n",
              "      <td>IXMtest_N18_s2_w1CC5ED51D-86C5-437D-8EDD-E56E4...</td>\n",
              "      <td>cell</td>\n",
              "      <td>91</td>\n",
              "    </tr>\n",
              "    <tr>\n",
              "      <th>5</th>\n",
              "      <td>IXMtest_G01_s2_w1FBE52723-8BDF-4346-89BB-216A4...</td>\n",
              "      <td>micro</td>\n",
              "      <td>7</td>\n",
              "    </tr>\n",
              "    <tr>\n",
              "      <th>6</th>\n",
              "      <td>IXMtest_J02_s8_w1D9C198F9-ECF0-4EF7-848D-AC778...</td>\n",
              "      <td>micro</td>\n",
              "      <td>6</td>\n",
              "    </tr>\n",
              "    <tr>\n",
              "      <th>7</th>\n",
              "      <td>IXMtest_G12_s6_w16850371E-A405-4D73-9816-F5F68...</td>\n",
              "      <td>micro</td>\n",
              "      <td>10</td>\n",
              "    </tr>\n",
              "    <tr>\n",
              "      <th>8</th>\n",
              "      <td>IXMtest_C19_s4_w1AD3DC23E-B9B5-46E9-9716-26096...</td>\n",
              "      <td>micro</td>\n",
              "      <td>5</td>\n",
              "    </tr>\n",
              "    <tr>\n",
              "      <th>9</th>\n",
              "      <td>IXMtest_N18_s2_w1CC5ED51D-86C5-437D-8EDD-E56E4...</td>\n",
              "      <td>micro</td>\n",
              "      <td>10</td>\n",
              "    </tr>\n",
              "  </tbody>\n",
              "</table>\n",
              "</div>"
            ],
            "text/plain": [
              "                                               image   type  nums\n",
              "0  IXMtest_G01_s2_w1FBE52723-8BDF-4346-89BB-216A4...   cell    63\n",
              "1  IXMtest_J02_s8_w1D9C198F9-ECF0-4EF7-848D-AC778...   cell    83\n",
              "2  IXMtest_G12_s6_w16850371E-A405-4D73-9816-F5F68...   cell   107\n",
              "3  IXMtest_C19_s4_w1AD3DC23E-B9B5-46E9-9716-26096...   cell    90\n",
              "4  IXMtest_N18_s2_w1CC5ED51D-86C5-437D-8EDD-E56E4...   cell    91\n",
              "5  IXMtest_G01_s2_w1FBE52723-8BDF-4346-89BB-216A4...  micro     7\n",
              "6  IXMtest_J02_s8_w1D9C198F9-ECF0-4EF7-848D-AC778...  micro     6\n",
              "7  IXMtest_G12_s6_w16850371E-A405-4D73-9816-F5F68...  micro    10\n",
              "8  IXMtest_C19_s4_w1AD3DC23E-B9B5-46E9-9716-26096...  micro     5\n",
              "9  IXMtest_N18_s2_w1CC5ED51D-86C5-437D-8EDD-E56E4...  micro    10"
            ]
          },
          "metadata": {
            "tags": []
          },
          "execution_count": 39
        }
      ]
    },
    {
      "cell_type": "code",
      "metadata": {
        "colab": {
          "base_uri": "https://localhost:8080/",
          "height": 680
        },
        "id": "V_0vIP2-ORXT",
        "outputId": "ca6b7e42-828e-4064-b66f-5a156962bdd6"
      },
      "source": [
        "# グラフにします\n",
        "g = sns.barplot(x='image', y='nums', hue='type', data=df2)\n",
        "g.set_xticklabels(image_names, rotation=90)"
      ],
      "execution_count": 47,
      "outputs": [
        {
          "output_type": "execute_result",
          "data": {
            "text/plain": [
              "[Text(0, 0, 'IXMtest_G01_s2_w1FBE52723-8BDF-4346-89BB-216A4A69ED1C'),\n",
              " Text(0, 0, 'IXMtest_J02_s8_w1D9C198F9-ECF0-4EF7-848D-AC7782CD3C28'),\n",
              " Text(0, 0, 'IXMtest_G12_s6_w16850371E-A405-4D73-9816-F5F68F885D38'),\n",
              " Text(0, 0, 'IXMtest_C19_s4_w1AD3DC23E-B9B5-46E9-9716-26096C672A13'),\n",
              " Text(0, 0, 'IXMtest_N18_s2_w1CC5ED51D-86C5-437D-8EDD-E56E4C949B3B')]"
            ]
          },
          "metadata": {
            "tags": []
          },
          "execution_count": 47
        },
        {
          "output_type": "display_data",
          "data": {
            "image/png": "[encoded data removed]",
            "text/plain": [
              "<Figure size 432x288 with 1 Axes>"
            ]
          },
          "metadata": {
            "tags": [],
            "needs_background": "light"
          }
        }
      ]
    },
    {
      "cell_type": "code",
      "metadata": {
        "id": "SoHVCLteO8mW"
      },
      "source": [
        ""
      ],
      "execution_count": null,
      "outputs": []
    }
  ]
}